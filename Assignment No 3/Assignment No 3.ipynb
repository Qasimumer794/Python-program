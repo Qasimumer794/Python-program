{
 "cells": [
  {
   "cell_type": "code",
   "execution_count": 1,
   "id": "b73db3f5",
   "metadata": {},
   "outputs": [
    {
     "name": "stdout",
     "output_type": "stream",
     "text": [
      "Twinkle, twinkle, little star,  \n",
      "\tHow I wonder what you are! \n",
      "\t\tUp above the world so high, \n",
      "\t\tLike a dimond in the sky. \n",
      "Twinkle, twinkle, little star, \n",
      "\tHow I wonder what you are!\n"
     ]
    }
   ],
   "source": [
    "# Q No1:Write a Python program to print the following string in a specific format,\n",
    "# Ans\n",
    "print(\"Twinkle, twinkle, little star,  \\n\\tHow I wonder what you are! \\n\\t\\tUp above the world so high, \\n\\t\\tLike a dimond in the sky. \\nTwinkle, twinkle, little star, \\n\\tHow I wonder what you are!\")"
   ]
  },
  {
   "cell_type": "code",
   "execution_count": 2,
   "id": "67290d40",
   "metadata": {},
   "outputs": [
    {
     "name": "stdout",
     "output_type": "stream",
     "text": [
      "Python version\n",
      "3.8.8 (default, Apr 13 2021, 15:08:03) [MSC v.1916 64 bit (AMD64)]\n",
      "Version info.\n",
      "sys.version_info(major=3, minor=8, micro=8, releaselevel='final', serial=0)\n"
     ]
    }
   ],
   "source": [
    "# Q No2:Write a python program to get the python version you are using?\n",
    "#Ans\n",
    "import sys\n",
    "print(\"Python version\")\n",
    "print (sys.version)\n",
    "print(\"Version info.\")\n",
    "print (sys.version_info)\n"
   ]
  },
  {
   "cell_type": "code",
   "execution_count": 3,
   "id": "21bfd83e",
   "metadata": {},
   "outputs": [
    {
     "name": "stdout",
     "output_type": "stream",
     "text": [
      "Current date and time : \n",
      "2021-10-24 13:23:58\n"
     ]
    }
   ],
   "source": [
    "# Q No3:Write a python progran to display the cutrrent date and time.\n",
    "#Ans\n",
    "import datetime\n",
    "now = datetime.datetime.now()\n",
    "print (\"Current date and time : \")\n",
    "print (now.strftime(\"%Y-%m-%d %H:%M:%S\"))"
   ]
  },
  {
   "cell_type": "code",
   "execution_count": 4,
   "id": "b1d5bbf1",
   "metadata": {},
   "outputs": [
    {
     "name": "stdout",
     "output_type": "stream",
     "text": [
      "Input the radius of the circle : 1.1\n",
      "The area of the circle with radius 1.1 is: 3.8013271108436504\n"
     ]
    }
   ],
   "source": [
    "# Q No4:Write a python program which accepts the radius of a circle from the user and compite te area.\n",
    "# Ans\n",
    "\n",
    "from math import pi\n",
    "r = float(input (\"Input the radius of the circle : \"))\n",
    "print (\"The area of the circle with radius \" + str(r) + \" is: \" + str(pi * r**2))"
   ]
  },
  {
   "cell_type": "code",
   "execution_count": 5,
   "id": "3d8d1456",
   "metadata": {},
   "outputs": [
    {
     "name": "stdout",
     "output_type": "stream",
     "text": [
      "Input your First Name : Qasim\n",
      "Input your Last Name : umer\n",
      "Hello  umer Qasim\n"
     ]
    }
   ],
   "source": [
    "# Q No5:Write a python program which accepts the users first and last name and print them in reverse order with a space between them.\n",
    "#Ans\n",
    "\n",
    "firstname = input(\"Input your First Name : \")\n",
    "lastname = input(\"Input your Last Name : \")\n",
    "print (\"Hello  \" + lastname + \" \" + firstname)"
   ]
  },
  {
   "cell_type": "code",
   "execution_count": 6,
   "id": "938814e8",
   "metadata": {},
   "outputs": [
    {
     "name": "stdout",
     "output_type": "stream",
     "text": [
      "enter first number: 56\n",
      "enter second number: 48\n",
      "sum: 104\n"
     ]
    }
   ],
   "source": [
    "# Q No6:Write a python program which takes two inputs from user and print them addition\n",
    "#Ans\n",
    "\n",
    "a = int(input(\"enter first number: \"))\n",
    "b = int(input(\"enter second number: \"))\n",
    " \n",
    "sum = a + b\n",
    " \n",
    "print(\"sum:\", sum)\n"
   ]
  },
  {
   "cell_type": "code",
   "execution_count": 7,
   "id": "fbfc6b49",
   "metadata": {},
   "outputs": [
    {
     "name": "stdout",
     "output_type": "stream",
     "text": [
      "Enter the marks of five subjects::\n",
      "89\n",
      "75\n",
      "79\n",
      "85\n",
      "84\n",
      "\n",
      "The Total marks is:   \t 412.0 / 500.00\n",
      "\n",
      "The Average marks is: \t 82.4\n",
      "\n",
      "The Percentage is:    \t 82.39999999999999 %\n",
      "\n",
      "The Grade is:         \t B\n"
     ]
    }
   ],
   "source": [
    "#Q No7:Write a program which takes 5 inputs from user for different subjects marks, total it and generate mark sheet using grades?\n",
    "#Ans\n",
    "# Calculate Total Marks Percentage and Grade of a Student\n",
    "\n",
    "print(\"Enter the marks of five subjects::\")\n",
    "\n",
    "English = float (input ())\n",
    "Urdu = float (input ())\n",
    "Math = float (input ())\n",
    "Isl = float (input ())\n",
    "Computer = float (input ())\n",
    "\n",
    "total, average, percentage, grade = None, None, None, None\n",
    "\n",
    "# calculate the Total, Average and Percentage\n",
    "total = English + Urdu + Math + Isl + Computer\n",
    "average = total / 5.0\n",
    "percentage = (total / 500.0) * 100\n",
    "\n",
    "if average >= 90:\n",
    "    grade = 'A'\n",
    "elif average >= 80 and average < 90:\n",
    "    grade = 'B'\n",
    "elif average >= 70 and average < 80:\n",
    "    grade = 'C'\n",
    "elif average >= 60 and average < 70:\n",
    "    grade = 'D'\n",
    "else:\n",
    "    grade = 'E'\n",
    "\n",
    "# produce the final output\n",
    "print (\"\\nThe Total marks is:   \\t\", total, \"/ 500.00\")\n",
    "print (\"\\nThe Average marks is: \\t\", average)\n",
    "print (\"\\nThe Percentage is:    \\t\", percentage, \"%\")\n",
    "print (\"\\nThe Grade is:         \\t\", grade)"
   ]
  },
  {
   "cell_type": "code",
   "execution_count": 8,
   "id": "e2d8ae5c",
   "metadata": {},
   "outputs": [
    {
     "name": "stdout",
     "output_type": "stream",
     "text": [
      "Enter a number: 5\n",
      "This is an odd number.\n"
     ]
    }
   ],
   "source": [
    "# Q No8:Write a program which take input from user and identify that the given number is even or odd?\n",
    "#Ans\n",
    "\n",
    "num = int(input(\"Enter a number: \"))\n",
    "Odd = num % 2\n",
    "if Odd > 0:\n",
    "    print(\"This is an odd number.\")\n",
    "else:\n",
    "    print(\"This is an even number.\")"
   ]
  },
  {
   "cell_type": "code",
   "execution_count": 9,
   "id": "f4f29985",
   "metadata": {},
   "outputs": [
    {
     "name": "stdout",
     "output_type": "stream",
     "text": [
      "The length of list is:  4\n"
     ]
    }
   ],
   "source": [
    "#Q No9:Write a program which print the length of the list?\n",
    "#Ans\n",
    "\n",
    "a = []\n",
    "a.append(\"Onion\")\n",
    "a.append(\"Tomato\")\n",
    "a.append(\"Potato\")\n",
    "a.append(\"Caret\")\n",
    "print(\"The length of list is: \", len(a))"
   ]
  },
  {
   "cell_type": "code",
   "execution_count": 10,
   "id": "46fe848b",
   "metadata": {},
   "outputs": [
    {
     "name": "stdout",
     "output_type": "stream",
     "text": [
      "45\n"
     ]
    }
   ],
   "source": [
    "# Q No10:Write a python program to sum all the numeric items in a list.\n",
    "#Ans\n",
    "\n",
    "def sum_list(items):\n",
    "    sum_numbers = 0\n",
    "    for x in items:\n",
    "        sum_numbers += x\n",
    "    return sum_numbers\n",
    "print(sum_list([5,55,-15]))\n"
   ]
  },
  {
   "cell_type": "code",
   "execution_count": 11,
   "id": "bad771e1",
   "metadata": {},
   "outputs": [
    {
     "name": "stdout",
     "output_type": "stream",
     "text": [
      "8\n"
     ]
    }
   ],
   "source": [
    "# Q No11:Write a python program to get the largest number from a numeric list.\n",
    "#Ans\n",
    "\n",
    "def max_num_in_list( list ):\n",
    "    max = list[ 0 ]\n",
    "    for a in list:\n",
    "        if a > max:\n",
    "            max = a\n",
    "    return max\n",
    "print(max_num_in_list([3, 8, -4, 0]))\n"
   ]
  },
  {
   "cell_type": "code",
   "execution_count": 12,
   "id": "152b0d70",
   "metadata": {},
   "outputs": [
    {
     "name": "stdout",
     "output_type": "stream",
     "text": [
      " \n",
      " Take a list, say for example this one:\n",
      "\n",
      "\n",
      "  a = [1,1,2,3,5,8,13,21,34,55,89]\n",
      "\n",
      "1\n",
      "\n",
      "1\n",
      "\n",
      "2\n",
      "\n",
      "3\n",
      "\n"
     ]
    }
   ],
   "source": [
    "# Q No12:Take a list sat for example this one:\n",
    "# a=[1,1,2,3,5,8,13,21,34,55,89]\n",
    "#Ans\n",
    "\n",
    "print (\"\"\" \\n Take a list, say for example this one:\\n\n",
    "\n",
    "  a = [1,1,2,3,5,8,13,21,34,55,89]\\n\"\"\")\n",
    "\n",
    "test_list= [1,1,2,3,5,8,13,21,34,55,89]\n",
    "for element in test_list:\n",
    "    if(int(element) <5):\n",
    "        print(str(element)+\"\\n\")"
   ]
  },
  {
   "cell_type": "code",
   "execution_count": null,
   "id": "97994e71",
   "metadata": {},
   "outputs": [],
   "source": []
  }
 ],
 "metadata": {
  "kernelspec": {
   "display_name": "Python 3",
   "language": "python",
   "name": "python3"
  },
  "language_info": {
   "codemirror_mode": {
    "name": "ipython",
    "version": 3
   },
   "file_extension": ".py",
   "mimetype": "text/x-python",
   "name": "python",
   "nbconvert_exporter": "python",
   "pygments_lexer": "ipython3",
   "version": "3.8.8"
  }
 },
 "nbformat": 4,
 "nbformat_minor": 5
}
